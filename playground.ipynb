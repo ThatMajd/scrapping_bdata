{
 "cells": [
  {
   "cell_type": "code",
   "execution_count": 311,
   "metadata": {
    "collapsed": true,
    "ExecuteTime": {
     "start_time": "2024-03-31T18:29:17.371344Z",
     "end_time": "2024-03-31T18:29:24.888093Z"
    }
   },
   "outputs": [
    {
     "name": "stdout",
     "output_type": "stream",
     "text": [
      "Connecting to Scraping Browser...\n"
     ]
    }
   ],
   "source": [
    "import pandas as pd\n",
    "import selenium.common.exceptions\n",
    "from selenium import webdriver\n",
    "from selenium.webdriver.common.by import By\n",
    "from selenium.webdriver import Remote, ChromeOptions\n",
    "from selenium.webdriver.chromium.remote_connection import ChromiumRemoteConnection\n",
    "\n",
    "JOBS_URL = \"https://www.linkedin.com/jobs/search\"\n",
    "\n",
    "USE_PROXY = True\n",
    "\n",
    "SCRAP_FILE = \"./scrapped_data/job_listings1.csv\"\n",
    "\n",
    "if USE_PROXY:\n",
    "    USER = \"brd-customer-hl_80709a30-zone-scraping_browser6\"\n",
    "    PASS = \"sb4h7pmd66yp\"\n",
    "    AUTH = f'{USER}:{PASS}'\n",
    "    SBR_WEBDRIVER = f'https://{AUTH}@brd.superproxy.io:9515'\n",
    "\n",
    "\n",
    "    print('Connecting to Scraping Browser...')\n",
    "    sbr_connection = ChromiumRemoteConnection(SBR_WEBDRIVER, 'goog', 'chrome')\n",
    "    driver =  Remote(command_executor=sbr_connection, options=ChromeOptions())\n",
    "else:\n",
    "    driver = webdriver.Chrome()\n",
    "\n",
    "driver.get(JOBS_URL)\n"
   ]
  },
  {
   "cell_type": "code",
   "execution_count": 242,
   "outputs": [
    {
     "data": {
      "text/plain": "True"
     },
     "execution_count": 242,
     "metadata": {},
     "output_type": "execute_result"
    }
   ],
   "source": [
    "driver.get_screenshot_as_file(\"test.png\")"
   ],
   "metadata": {
    "collapsed": false,
    "ExecuteTime": {
     "start_time": "2024-03-31T12:24:47.269667Z",
     "end_time": "2024-03-31T12:24:50.308155Z"
    }
   }
  },
  {
   "cell_type": "markdown",
   "source": [
    "# TODO if we reached correct page"
   ],
   "metadata": {
    "collapsed": false
   }
  },
  {
   "cell_type": "code",
   "execution_count": 312,
   "outputs": [],
   "source": [
    "# from container import parse_job_listing\n",
    "import time\n",
    "import re\n",
    "import pprint\n",
    "# from constants import BUTTONS\n",
    "\n",
    "BUTTONS = {\n",
    "    \"SHOW_MORE\": [By.CLASS_NAME, \"\"\"\"\"show-more-less-html__button show-more-less-button\n",
    "        show-more-less-html__button--more\n",
    "        ml-0.5\"\"\"],\n",
    "    \"JOB_PAGE\": [By.CSS_SELECTOR, \"body > div.base-serp-page > div > section\"],\n",
    "    \"DESCRIPTION\": [By.CSS_SELECTOR, \"body > div.base-serp-page > div > section > div.details-pane__content.details-pane__content--show > div > section.core-section-container.my-3.description > div > div > section > div\"],\n",
    "    \"COMPANY_ID\": [By.CSS_SELECTOR, \"body > div.base-serp-page > div > section > div.details-pane__content.details-pane__content--show > section > div > div.top-card-layout__entity-info-container.flex.flex-wrap.papabear\\:flex-nowrap > div > h4 > div.face-pile.flex.see-who-was-hired > a\"],\n",
    "    \"TOP_BAR\": [By.CSS_SELECTOR, \"body > div.base-serp-page > div > section > div.details-pane__content.details-pane__content--show > section > div\"],\n",
    "    \"BOTTOM_BAR\": [By.CSS_SELECTOR, \"body > div.base-serp-page > div > section > div.details-pane__content.details-pane__content--show > div > section.core-section-container.my-3.description > div > ul\"],\n",
    "    \"LOAD_MORE\": [By.CSS_SELECTOR, \"#main-content > section > button\"]\n",
    "}\n",
    "\n",
    "COLS = ['company_id', 'description', 'formatted_experience_level', 'formatted_work_type', 'industries', 'job_function', 'job_id', 'location', 'title', 'work_type']"
   ],
   "metadata": {
    "collapsed": false,
    "ExecuteTime": {
     "start_time": "2024-03-31T18:29:24.895209Z",
     "end_time": "2024-03-31T18:29:24.898741Z"
    }
   }
  },
  {
   "cell_type": "code",
   "execution_count": 313,
   "outputs": [],
   "source": [
    "\n",
    "def fetch_jobs(limit):\n",
    "    def fetch_jobs_list():\n",
    "        return driver.find_element(By.CSS_SELECTOR, '#main-content > section > ul').find_elements(By.TAG_NAME, \"li\")\n",
    "    my_list = fetch_jobs_list()\n",
    "    n = len(my_list)\n",
    "    # print(f\"Starting length: {len(my_list)}\")\n",
    "    i = 0\n",
    "    STOP = False\n",
    "    while not STOP:\n",
    "        for j, item in enumerate(my_list):\n",
    "            if i > limit:\n",
    "                print(\"Finished Scraping\")\n",
    "                STOP = True\n",
    "                break\n",
    "            i += 1\n",
    "            yield item\n",
    "            time.sleep(1.5)\n",
    "            # yield item\n",
    "        else:\n",
    "            time.sleep(0.5)\n",
    "            driver.execute_script(\"window.scrollTo(0, document.body.scrollHeight);\")\n",
    "            try:\n",
    "                driver.find_element(*BUTTONS[\"LOAD_MORE\"]).click()\n",
    "            except Exception:\n",
    "                pass\n",
    "            time.sleep(1)\n",
    "            n = len(my_list)\n",
    "            updated = fetch_jobs_list()\n",
    "            while n == len(updated):\n",
    "                time.sleep(0.5)\n",
    "                updated = fetch_jobs_list()\n",
    "            # print(f'my_list len {n} updated len {len(updated)}')\n",
    "            my_list = updated[n:]\n",
    "            # print(f\"new len {len(my_list)}\")\n"
   ],
   "metadata": {
    "collapsed": false,
    "ExecuteTime": {
     "start_time": "2024-03-31T18:29:24.908758Z",
     "end_time": "2024-03-31T18:29:24.915628Z"
    }
   }
  },
  {
   "cell_type": "code",
   "execution_count": 314,
   "outputs": [
    {
     "name": "stdout",
     "output_type": "stream",
     "text": [
      "(already scrapped)[0/0] - Scraped job - 3878759664 took: 8.40 sec ABORT\n",
      "(already scrapped)[0/1] - Scraped job - 3878747716 took: 8.84 sec ABORT\n",
      "(already scrapped)[0/2] - Scraped job - 3878760233 took: 8.59 sec ABORT\n",
      "[0/3] - Scraped job - 3879001205 took: 19.03 sec \n",
      "(already scrapped)[1/4] - Scraped job - 3878758362 took: 9.14 sec ABORT\n",
      "(already scrapped)[1/5] - Scraped job - 3878756953 took: 8.50 sec ABORT\n",
      "(already scrapped)[1/6] - Scraped job - 3878756952 took: 8.85 sec ABORT\n",
      "[1/7] - Scraped job - 3878798769 took: 17.23 sec \n",
      "(already scrapped)[2/8] - Scraped job - 3878747203 took: 8.33 sec ABORT\n",
      "[2/9] - Scraped job - 3879003144 took: 18.29 sec \n",
      "(already scrapped)[3/10] - Scraped job - 3878753993 took: 8.50 sec ABORT\n",
      "(already scrapped)[3/11] - Scraped job - 3878753349 took: 8.11 sec ABORT\n",
      "(already scrapped)[3/12] - Scraped job - 3878764568 took: 9.31 sec ABORT\n",
      "(already scrapped)[3/13] - Scraped job - 3878744145 took: 9.10 sec ABORT\n",
      "[3/14] - Scraped job - 3878776397 took: 19.48 sec \n",
      "[4/15] - Scraped job - 3878791493 took: 18.01 sec \n",
      "(already scrapped)[5/16] - Scraped job - 3878756692 took: 8.96 sec ABORT\n",
      "(already scrapped)[5/17] - Scraped job - 3878757515 took: 8.70 sec ABORT\n",
      "(already scrapped)[5/18] - Scraped job - 3878760027 took: 8.75 sec ABORT\n",
      "(already scrapped)[5/19] - Scraped job - 3878778128 took: 8.44 sec ABORT\n",
      "(already scrapped)[5/20] - Scraped job - 3878757069 took: 9.51 sec ABORT\n",
      "(already scrapped)[5/21] - Scraped job - 3878755793 took: 8.51 sec ABORT\n",
      "(already scrapped)[5/22] - Scraped job - 3878741850 took: 9.24 sec ABORT\n",
      "(already scrapped)[5/23] - Scraped job - 3878755945 took: 8.91 sec ABORT\n",
      "[5/24] - Scraped job - 3878775698 took: 18.07 sec \n",
      "[6/25] - Scraped job - 3878774793 took: 18.11 sec \n",
      "(already scrapped)[7/26] - Scraped job - 3878747528 took: 9.01 sec ABORT\n",
      "[7/27] - Scraped job - 3879000341 took: 19.65 sec \n",
      "[8/28] - Scraped job - 3878784776 took: 18.74 sec \n",
      "(already scrapped)[9/29] - Scraped job - 3878749432 took: 9.57 sec ABORT\n",
      "(already scrapped)[9/30] - Scraped job - 3878745744 took: 8.91 sec ABORT\n",
      "[9/31] - Scraped job - 3878779047 took: 18.34 sec \n",
      "\t--- SCRAPPED 10 JOBS ---\n",
      "(already scrapped)[10/32] - Scraped job - 3878752699 took: 9.62 sec ABORT\n",
      "(already scrapped)[10/33] - Scraped job - 3878753072 took: 8.49 sec ABORT\n",
      "(already scrapped)[10/34] - Scraped job - 3878750396 took: 9.81 sec ABORT\n",
      "[10/35] - Scraped job - 3878788181 took: 58.85 sec \n"
     ]
    },
    {
     "ename": "KeyboardInterrupt",
     "evalue": "",
     "output_type": "error",
     "traceback": [
      "\u001B[0;31m---------------------------------------------------------------------------\u001B[0m",
      "\u001B[0;31mKeyboardInterrupt\u001B[0m                         Traceback (most recent call last)",
      "Cell \u001B[0;32mIn[314], line 52\u001B[0m\n\u001B[1;32m     50\u001B[0m \u001B[38;5;28;01mtry\u001B[39;00m:\n\u001B[1;32m     51\u001B[0m     s \u001B[38;5;241m=\u001B[39m time\u001B[38;5;241m.\u001B[39mtime()\n\u001B[0;32m---> 52\u001B[0m     \u001B[43mjob_element\u001B[49m\u001B[38;5;241;43m.\u001B[39;49m\u001B[43mclick\u001B[49m\u001B[43m(\u001B[49m\u001B[43m)\u001B[49m\n\u001B[1;32m     53\u001B[0m     job_data, error \u001B[38;5;241m=\u001B[39m scrap_job_element(job_element)\n\u001B[1;32m     54\u001B[0m     job_id \u001B[38;5;241m=\u001B[39m job_data[\u001B[38;5;124m\"\u001B[39m\u001B[38;5;124mjob_id\u001B[39m\u001B[38;5;124m\"\u001B[39m]\n",
      "File \u001B[0;32m~/PycharmProjects/scrapping_bdata/venv/lib/python3.10/site-packages/selenium/webdriver/remote/webelement.py:94\u001B[0m, in \u001B[0;36mWebElement.click\u001B[0;34m(self)\u001B[0m\n\u001B[1;32m     92\u001B[0m \u001B[38;5;28;01mdef\u001B[39;00m \u001B[38;5;21mclick\u001B[39m(\u001B[38;5;28mself\u001B[39m) \u001B[38;5;241m-\u001B[39m\u001B[38;5;241m>\u001B[39m \u001B[38;5;28;01mNone\u001B[39;00m:\n\u001B[1;32m     93\u001B[0m \u001B[38;5;250m    \u001B[39m\u001B[38;5;124;03m\"\"\"Clicks the element.\"\"\"\u001B[39;00m\n\u001B[0;32m---> 94\u001B[0m     \u001B[38;5;28;43mself\u001B[39;49m\u001B[38;5;241;43m.\u001B[39;49m\u001B[43m_execute\u001B[49m\u001B[43m(\u001B[49m\u001B[43mCommand\u001B[49m\u001B[38;5;241;43m.\u001B[39;49m\u001B[43mCLICK_ELEMENT\u001B[49m\u001B[43m)\u001B[49m\n",
      "File \u001B[0;32m~/PycharmProjects/scrapping_bdata/venv/lib/python3.10/site-packages/selenium/webdriver/remote/webelement.py:395\u001B[0m, in \u001B[0;36mWebElement._execute\u001B[0;34m(self, command, params)\u001B[0m\n\u001B[1;32m    393\u001B[0m     params \u001B[38;5;241m=\u001B[39m {}\n\u001B[1;32m    394\u001B[0m params[\u001B[38;5;124m\"\u001B[39m\u001B[38;5;124mid\u001B[39m\u001B[38;5;124m\"\u001B[39m] \u001B[38;5;241m=\u001B[39m \u001B[38;5;28mself\u001B[39m\u001B[38;5;241m.\u001B[39m_id\n\u001B[0;32m--> 395\u001B[0m \u001B[38;5;28;01mreturn\u001B[39;00m \u001B[38;5;28;43mself\u001B[39;49m\u001B[38;5;241;43m.\u001B[39;49m\u001B[43m_parent\u001B[49m\u001B[38;5;241;43m.\u001B[39;49m\u001B[43mexecute\u001B[49m\u001B[43m(\u001B[49m\u001B[43mcommand\u001B[49m\u001B[43m,\u001B[49m\u001B[43m \u001B[49m\u001B[43mparams\u001B[49m\u001B[43m)\u001B[49m\n",
      "File \u001B[0;32m~/PycharmProjects/scrapping_bdata/venv/lib/python3.10/site-packages/selenium/webdriver/remote/webdriver.py:345\u001B[0m, in \u001B[0;36mWebDriver.execute\u001B[0;34m(self, driver_command, params)\u001B[0m\n\u001B[1;32m    342\u001B[0m     \u001B[38;5;28;01melif\u001B[39;00m \u001B[38;5;124m\"\u001B[39m\u001B[38;5;124msessionId\u001B[39m\u001B[38;5;124m\"\u001B[39m \u001B[38;5;129;01mnot\u001B[39;00m \u001B[38;5;129;01min\u001B[39;00m params:\n\u001B[1;32m    343\u001B[0m         params[\u001B[38;5;124m\"\u001B[39m\u001B[38;5;124msessionId\u001B[39m\u001B[38;5;124m\"\u001B[39m] \u001B[38;5;241m=\u001B[39m \u001B[38;5;28mself\u001B[39m\u001B[38;5;241m.\u001B[39msession_id\n\u001B[0;32m--> 345\u001B[0m response \u001B[38;5;241m=\u001B[39m \u001B[38;5;28;43mself\u001B[39;49m\u001B[38;5;241;43m.\u001B[39;49m\u001B[43mcommand_executor\u001B[49m\u001B[38;5;241;43m.\u001B[39;49m\u001B[43mexecute\u001B[49m\u001B[43m(\u001B[49m\u001B[43mdriver_command\u001B[49m\u001B[43m,\u001B[49m\u001B[43m \u001B[49m\u001B[43mparams\u001B[49m\u001B[43m)\u001B[49m\n\u001B[1;32m    346\u001B[0m \u001B[38;5;28;01mif\u001B[39;00m response:\n\u001B[1;32m    347\u001B[0m     \u001B[38;5;28mself\u001B[39m\u001B[38;5;241m.\u001B[39merror_handler\u001B[38;5;241m.\u001B[39mcheck_response(response)\n",
      "File \u001B[0;32m~/PycharmProjects/scrapping_bdata/venv/lib/python3.10/site-packages/selenium/webdriver/remote/remote_connection.py:302\u001B[0m, in \u001B[0;36mRemoteConnection.execute\u001B[0;34m(self, command, params)\u001B[0m\n\u001B[1;32m    300\u001B[0m trimmed \u001B[38;5;241m=\u001B[39m \u001B[38;5;28mself\u001B[39m\u001B[38;5;241m.\u001B[39m_trim_large_entries(params)\n\u001B[1;32m    301\u001B[0m LOGGER\u001B[38;5;241m.\u001B[39mdebug(\u001B[38;5;124m\"\u001B[39m\u001B[38;5;132;01m%s\u001B[39;00m\u001B[38;5;124m \u001B[39m\u001B[38;5;132;01m%s\u001B[39;00m\u001B[38;5;124m \u001B[39m\u001B[38;5;132;01m%s\u001B[39;00m\u001B[38;5;124m\"\u001B[39m, command_info[\u001B[38;5;241m0\u001B[39m], url, \u001B[38;5;28mstr\u001B[39m(trimmed))\n\u001B[0;32m--> 302\u001B[0m \u001B[38;5;28;01mreturn\u001B[39;00m \u001B[38;5;28;43mself\u001B[39;49m\u001B[38;5;241;43m.\u001B[39;49m\u001B[43m_request\u001B[49m\u001B[43m(\u001B[49m\u001B[43mcommand_info\u001B[49m\u001B[43m[\u001B[49m\u001B[38;5;241;43m0\u001B[39;49m\u001B[43m]\u001B[49m\u001B[43m,\u001B[49m\u001B[43m \u001B[49m\u001B[43murl\u001B[49m\u001B[43m,\u001B[49m\u001B[43m \u001B[49m\u001B[43mbody\u001B[49m\u001B[38;5;241;43m=\u001B[39;49m\u001B[43mdata\u001B[49m\u001B[43m)\u001B[49m\n",
      "File \u001B[0;32m~/PycharmProjects/scrapping_bdata/venv/lib/python3.10/site-packages/selenium/webdriver/remote/remote_connection.py:322\u001B[0m, in \u001B[0;36mRemoteConnection._request\u001B[0;34m(self, method, url, body)\u001B[0m\n\u001B[1;32m    319\u001B[0m     body \u001B[38;5;241m=\u001B[39m \u001B[38;5;28;01mNone\u001B[39;00m\n\u001B[1;32m    321\u001B[0m \u001B[38;5;28;01mif\u001B[39;00m \u001B[38;5;28mself\u001B[39m\u001B[38;5;241m.\u001B[39mkeep_alive:\n\u001B[0;32m--> 322\u001B[0m     response \u001B[38;5;241m=\u001B[39m \u001B[38;5;28;43mself\u001B[39;49m\u001B[38;5;241;43m.\u001B[39;49m\u001B[43m_conn\u001B[49m\u001B[38;5;241;43m.\u001B[39;49m\u001B[43mrequest\u001B[49m\u001B[43m(\u001B[49m\u001B[43mmethod\u001B[49m\u001B[43m,\u001B[49m\u001B[43m \u001B[49m\u001B[43murl\u001B[49m\u001B[43m,\u001B[49m\u001B[43m \u001B[49m\u001B[43mbody\u001B[49m\u001B[38;5;241;43m=\u001B[39;49m\u001B[43mbody\u001B[49m\u001B[43m,\u001B[49m\u001B[43m \u001B[49m\u001B[43mheaders\u001B[49m\u001B[38;5;241;43m=\u001B[39;49m\u001B[43mheaders\u001B[49m\u001B[43m)\u001B[49m\n\u001B[1;32m    323\u001B[0m     statuscode \u001B[38;5;241m=\u001B[39m response\u001B[38;5;241m.\u001B[39mstatus\n\u001B[1;32m    324\u001B[0m \u001B[38;5;28;01melse\u001B[39;00m:\n",
      "File \u001B[0;32m~/PycharmProjects/scrapping_bdata/venv/lib/python3.10/site-packages/urllib3/_request_methods.py:144\u001B[0m, in \u001B[0;36mRequestMethods.request\u001B[0;34m(self, method, url, body, fields, headers, json, **urlopen_kw)\u001B[0m\n\u001B[1;32m    136\u001B[0m     \u001B[38;5;28;01mreturn\u001B[39;00m \u001B[38;5;28mself\u001B[39m\u001B[38;5;241m.\u001B[39mrequest_encode_url(\n\u001B[1;32m    137\u001B[0m         method,\n\u001B[1;32m    138\u001B[0m         url,\n\u001B[0;32m   (...)\u001B[0m\n\u001B[1;32m    141\u001B[0m         \u001B[38;5;241m*\u001B[39m\u001B[38;5;241m*\u001B[39murlopen_kw,\n\u001B[1;32m    142\u001B[0m     )\n\u001B[1;32m    143\u001B[0m \u001B[38;5;28;01melse\u001B[39;00m:\n\u001B[0;32m--> 144\u001B[0m     \u001B[38;5;28;01mreturn\u001B[39;00m \u001B[38;5;28;43mself\u001B[39;49m\u001B[38;5;241;43m.\u001B[39;49m\u001B[43mrequest_encode_body\u001B[49m\u001B[43m(\u001B[49m\n\u001B[1;32m    145\u001B[0m \u001B[43m        \u001B[49m\u001B[43mmethod\u001B[49m\u001B[43m,\u001B[49m\u001B[43m \u001B[49m\u001B[43murl\u001B[49m\u001B[43m,\u001B[49m\u001B[43m \u001B[49m\u001B[43mfields\u001B[49m\u001B[38;5;241;43m=\u001B[39;49m\u001B[43mfields\u001B[49m\u001B[43m,\u001B[49m\u001B[43m \u001B[49m\u001B[43mheaders\u001B[49m\u001B[38;5;241;43m=\u001B[39;49m\u001B[43mheaders\u001B[49m\u001B[43m,\u001B[49m\u001B[43m \u001B[49m\u001B[38;5;241;43m*\u001B[39;49m\u001B[38;5;241;43m*\u001B[39;49m\u001B[43murlopen_kw\u001B[49m\n\u001B[1;32m    146\u001B[0m \u001B[43m    \u001B[49m\u001B[43m)\u001B[49m\n",
      "File \u001B[0;32m~/PycharmProjects/scrapping_bdata/venv/lib/python3.10/site-packages/urllib3/_request_methods.py:279\u001B[0m, in \u001B[0;36mRequestMethods.request_encode_body\u001B[0;34m(self, method, url, fields, headers, encode_multipart, multipart_boundary, **urlopen_kw)\u001B[0m\n\u001B[1;32m    275\u001B[0m     extra_kw[\u001B[38;5;124m\"\u001B[39m\u001B[38;5;124mheaders\u001B[39m\u001B[38;5;124m\"\u001B[39m]\u001B[38;5;241m.\u001B[39msetdefault(\u001B[38;5;124m\"\u001B[39m\u001B[38;5;124mContent-Type\u001B[39m\u001B[38;5;124m\"\u001B[39m, content_type)\n\u001B[1;32m    277\u001B[0m extra_kw\u001B[38;5;241m.\u001B[39mupdate(urlopen_kw)\n\u001B[0;32m--> 279\u001B[0m \u001B[38;5;28;01mreturn\u001B[39;00m \u001B[38;5;28;43mself\u001B[39;49m\u001B[38;5;241;43m.\u001B[39;49m\u001B[43murlopen\u001B[49m\u001B[43m(\u001B[49m\u001B[43mmethod\u001B[49m\u001B[43m,\u001B[49m\u001B[43m \u001B[49m\u001B[43murl\u001B[49m\u001B[43m,\u001B[49m\u001B[43m \u001B[49m\u001B[38;5;241;43m*\u001B[39;49m\u001B[38;5;241;43m*\u001B[39;49m\u001B[43mextra_kw\u001B[49m\u001B[43m)\u001B[49m\n",
      "File \u001B[0;32m~/PycharmProjects/scrapping_bdata/venv/lib/python3.10/site-packages/urllib3/poolmanager.py:444\u001B[0m, in \u001B[0;36mPoolManager.urlopen\u001B[0;34m(self, method, url, redirect, **kw)\u001B[0m\n\u001B[1;32m    442\u001B[0m     response \u001B[38;5;241m=\u001B[39m conn\u001B[38;5;241m.\u001B[39murlopen(method, url, \u001B[38;5;241m*\u001B[39m\u001B[38;5;241m*\u001B[39mkw)\n\u001B[1;32m    443\u001B[0m \u001B[38;5;28;01melse\u001B[39;00m:\n\u001B[0;32m--> 444\u001B[0m     response \u001B[38;5;241m=\u001B[39m \u001B[43mconn\u001B[49m\u001B[38;5;241;43m.\u001B[39;49m\u001B[43murlopen\u001B[49m\u001B[43m(\u001B[49m\u001B[43mmethod\u001B[49m\u001B[43m,\u001B[49m\u001B[43m \u001B[49m\u001B[43mu\u001B[49m\u001B[38;5;241;43m.\u001B[39;49m\u001B[43mrequest_uri\u001B[49m\u001B[43m,\u001B[49m\u001B[43m \u001B[49m\u001B[38;5;241;43m*\u001B[39;49m\u001B[38;5;241;43m*\u001B[39;49m\u001B[43mkw\u001B[49m\u001B[43m)\u001B[49m\n\u001B[1;32m    446\u001B[0m redirect_location \u001B[38;5;241m=\u001B[39m redirect \u001B[38;5;129;01mand\u001B[39;00m response\u001B[38;5;241m.\u001B[39mget_redirect_location()\n\u001B[1;32m    447\u001B[0m \u001B[38;5;28;01mif\u001B[39;00m \u001B[38;5;129;01mnot\u001B[39;00m redirect_location:\n",
      "File \u001B[0;32m~/PycharmProjects/scrapping_bdata/venv/lib/python3.10/site-packages/urllib3/connectionpool.py:793\u001B[0m, in \u001B[0;36mHTTPConnectionPool.urlopen\u001B[0;34m(self, method, url, body, headers, retries, redirect, assert_same_host, timeout, pool_timeout, release_conn, chunked, body_pos, preload_content, decode_content, **response_kw)\u001B[0m\n\u001B[1;32m    790\u001B[0m response_conn \u001B[38;5;241m=\u001B[39m conn \u001B[38;5;28;01mif\u001B[39;00m \u001B[38;5;129;01mnot\u001B[39;00m release_conn \u001B[38;5;28;01melse\u001B[39;00m \u001B[38;5;28;01mNone\u001B[39;00m\n\u001B[1;32m    792\u001B[0m \u001B[38;5;66;03m# Make the request on the HTTPConnection object\u001B[39;00m\n\u001B[0;32m--> 793\u001B[0m response \u001B[38;5;241m=\u001B[39m \u001B[38;5;28;43mself\u001B[39;49m\u001B[38;5;241;43m.\u001B[39;49m\u001B[43m_make_request\u001B[49m\u001B[43m(\u001B[49m\n\u001B[1;32m    794\u001B[0m \u001B[43m    \u001B[49m\u001B[43mconn\u001B[49m\u001B[43m,\u001B[49m\n\u001B[1;32m    795\u001B[0m \u001B[43m    \u001B[49m\u001B[43mmethod\u001B[49m\u001B[43m,\u001B[49m\n\u001B[1;32m    796\u001B[0m \u001B[43m    \u001B[49m\u001B[43murl\u001B[49m\u001B[43m,\u001B[49m\n\u001B[1;32m    797\u001B[0m \u001B[43m    \u001B[49m\u001B[43mtimeout\u001B[49m\u001B[38;5;241;43m=\u001B[39;49m\u001B[43mtimeout_obj\u001B[49m\u001B[43m,\u001B[49m\n\u001B[1;32m    798\u001B[0m \u001B[43m    \u001B[49m\u001B[43mbody\u001B[49m\u001B[38;5;241;43m=\u001B[39;49m\u001B[43mbody\u001B[49m\u001B[43m,\u001B[49m\n\u001B[1;32m    799\u001B[0m \u001B[43m    \u001B[49m\u001B[43mheaders\u001B[49m\u001B[38;5;241;43m=\u001B[39;49m\u001B[43mheaders\u001B[49m\u001B[43m,\u001B[49m\n\u001B[1;32m    800\u001B[0m \u001B[43m    \u001B[49m\u001B[43mchunked\u001B[49m\u001B[38;5;241;43m=\u001B[39;49m\u001B[43mchunked\u001B[49m\u001B[43m,\u001B[49m\n\u001B[1;32m    801\u001B[0m \u001B[43m    \u001B[49m\u001B[43mretries\u001B[49m\u001B[38;5;241;43m=\u001B[39;49m\u001B[43mretries\u001B[49m\u001B[43m,\u001B[49m\n\u001B[1;32m    802\u001B[0m \u001B[43m    \u001B[49m\u001B[43mresponse_conn\u001B[49m\u001B[38;5;241;43m=\u001B[39;49m\u001B[43mresponse_conn\u001B[49m\u001B[43m,\u001B[49m\n\u001B[1;32m    803\u001B[0m \u001B[43m    \u001B[49m\u001B[43mpreload_content\u001B[49m\u001B[38;5;241;43m=\u001B[39;49m\u001B[43mpreload_content\u001B[49m\u001B[43m,\u001B[49m\n\u001B[1;32m    804\u001B[0m \u001B[43m    \u001B[49m\u001B[43mdecode_content\u001B[49m\u001B[38;5;241;43m=\u001B[39;49m\u001B[43mdecode_content\u001B[49m\u001B[43m,\u001B[49m\n\u001B[1;32m    805\u001B[0m \u001B[43m    \u001B[49m\u001B[38;5;241;43m*\u001B[39;49m\u001B[38;5;241;43m*\u001B[39;49m\u001B[43mresponse_kw\u001B[49m\u001B[43m,\u001B[49m\n\u001B[1;32m    806\u001B[0m \u001B[43m\u001B[49m\u001B[43m)\u001B[49m\n\u001B[1;32m    808\u001B[0m \u001B[38;5;66;03m# Everything went great!\u001B[39;00m\n\u001B[1;32m    809\u001B[0m clean_exit \u001B[38;5;241m=\u001B[39m \u001B[38;5;28;01mTrue\u001B[39;00m\n",
      "File \u001B[0;32m~/PycharmProjects/scrapping_bdata/venv/lib/python3.10/site-packages/urllib3/connectionpool.py:537\u001B[0m, in \u001B[0;36mHTTPConnectionPool._make_request\u001B[0;34m(self, conn, method, url, body, headers, retries, timeout, chunked, response_conn, preload_content, decode_content, enforce_content_length)\u001B[0m\n\u001B[1;32m    535\u001B[0m \u001B[38;5;66;03m# Receive the response from the server\u001B[39;00m\n\u001B[1;32m    536\u001B[0m \u001B[38;5;28;01mtry\u001B[39;00m:\n\u001B[0;32m--> 537\u001B[0m     response \u001B[38;5;241m=\u001B[39m \u001B[43mconn\u001B[49m\u001B[38;5;241;43m.\u001B[39;49m\u001B[43mgetresponse\u001B[49m\u001B[43m(\u001B[49m\u001B[43m)\u001B[49m\n\u001B[1;32m    538\u001B[0m \u001B[38;5;28;01mexcept\u001B[39;00m (BaseSSLError, \u001B[38;5;167;01mOSError\u001B[39;00m) \u001B[38;5;28;01mas\u001B[39;00m e:\n\u001B[1;32m    539\u001B[0m     \u001B[38;5;28mself\u001B[39m\u001B[38;5;241m.\u001B[39m_raise_timeout(err\u001B[38;5;241m=\u001B[39me, url\u001B[38;5;241m=\u001B[39murl, timeout_value\u001B[38;5;241m=\u001B[39mread_timeout)\n",
      "File \u001B[0;32m~/PycharmProjects/scrapping_bdata/venv/lib/python3.10/site-packages/urllib3/connection.py:466\u001B[0m, in \u001B[0;36mHTTPConnection.getresponse\u001B[0;34m(self)\u001B[0m\n\u001B[1;32m    463\u001B[0m \u001B[38;5;28;01mfrom\u001B[39;00m \u001B[38;5;21;01m.\u001B[39;00m\u001B[38;5;21;01mresponse\u001B[39;00m \u001B[38;5;28;01mimport\u001B[39;00m HTTPResponse\n\u001B[1;32m    465\u001B[0m \u001B[38;5;66;03m# Get the response from http.client.HTTPConnection\u001B[39;00m\n\u001B[0;32m--> 466\u001B[0m httplib_response \u001B[38;5;241m=\u001B[39m \u001B[38;5;28;43msuper\u001B[39;49m\u001B[43m(\u001B[49m\u001B[43m)\u001B[49m\u001B[38;5;241;43m.\u001B[39;49m\u001B[43mgetresponse\u001B[49m\u001B[43m(\u001B[49m\u001B[43m)\u001B[49m\n\u001B[1;32m    468\u001B[0m \u001B[38;5;28;01mtry\u001B[39;00m:\n\u001B[1;32m    469\u001B[0m     assert_header_parsing(httplib_response\u001B[38;5;241m.\u001B[39mmsg)\n",
      "File \u001B[0;32m/Library/Frameworks/Python.framework/Versions/3.10/lib/python3.10/http/client.py:1374\u001B[0m, in \u001B[0;36mHTTPConnection.getresponse\u001B[0;34m(self)\u001B[0m\n\u001B[1;32m   1372\u001B[0m \u001B[38;5;28;01mtry\u001B[39;00m:\n\u001B[1;32m   1373\u001B[0m     \u001B[38;5;28;01mtry\u001B[39;00m:\n\u001B[0;32m-> 1374\u001B[0m         \u001B[43mresponse\u001B[49m\u001B[38;5;241;43m.\u001B[39;49m\u001B[43mbegin\u001B[49m\u001B[43m(\u001B[49m\u001B[43m)\u001B[49m\n\u001B[1;32m   1375\u001B[0m     \u001B[38;5;28;01mexcept\u001B[39;00m \u001B[38;5;167;01mConnectionError\u001B[39;00m:\n\u001B[1;32m   1376\u001B[0m         \u001B[38;5;28mself\u001B[39m\u001B[38;5;241m.\u001B[39mclose()\n",
      "File \u001B[0;32m/Library/Frameworks/Python.framework/Versions/3.10/lib/python3.10/http/client.py:318\u001B[0m, in \u001B[0;36mHTTPResponse.begin\u001B[0;34m(self)\u001B[0m\n\u001B[1;32m    316\u001B[0m \u001B[38;5;66;03m# read until we get a non-100 response\u001B[39;00m\n\u001B[1;32m    317\u001B[0m \u001B[38;5;28;01mwhile\u001B[39;00m \u001B[38;5;28;01mTrue\u001B[39;00m:\n\u001B[0;32m--> 318\u001B[0m     version, status, reason \u001B[38;5;241m=\u001B[39m \u001B[38;5;28;43mself\u001B[39;49m\u001B[38;5;241;43m.\u001B[39;49m\u001B[43m_read_status\u001B[49m\u001B[43m(\u001B[49m\u001B[43m)\u001B[49m\n\u001B[1;32m    319\u001B[0m     \u001B[38;5;28;01mif\u001B[39;00m status \u001B[38;5;241m!=\u001B[39m CONTINUE:\n\u001B[1;32m    320\u001B[0m         \u001B[38;5;28;01mbreak\u001B[39;00m\n",
      "File \u001B[0;32m/Library/Frameworks/Python.framework/Versions/3.10/lib/python3.10/http/client.py:279\u001B[0m, in \u001B[0;36mHTTPResponse._read_status\u001B[0;34m(self)\u001B[0m\n\u001B[1;32m    278\u001B[0m \u001B[38;5;28;01mdef\u001B[39;00m \u001B[38;5;21m_read_status\u001B[39m(\u001B[38;5;28mself\u001B[39m):\n\u001B[0;32m--> 279\u001B[0m     line \u001B[38;5;241m=\u001B[39m \u001B[38;5;28mstr\u001B[39m(\u001B[38;5;28;43mself\u001B[39;49m\u001B[38;5;241;43m.\u001B[39;49m\u001B[43mfp\u001B[49m\u001B[38;5;241;43m.\u001B[39;49m\u001B[43mreadline\u001B[49m\u001B[43m(\u001B[49m\u001B[43m_MAXLINE\u001B[49m\u001B[43m \u001B[49m\u001B[38;5;241;43m+\u001B[39;49m\u001B[43m \u001B[49m\u001B[38;5;241;43m1\u001B[39;49m\u001B[43m)\u001B[49m, \u001B[38;5;124m\"\u001B[39m\u001B[38;5;124miso-8859-1\u001B[39m\u001B[38;5;124m\"\u001B[39m)\n\u001B[1;32m    280\u001B[0m     \u001B[38;5;28;01mif\u001B[39;00m \u001B[38;5;28mlen\u001B[39m(line) \u001B[38;5;241m>\u001B[39m _MAXLINE:\n\u001B[1;32m    281\u001B[0m         \u001B[38;5;28;01mraise\u001B[39;00m LineTooLong(\u001B[38;5;124m\"\u001B[39m\u001B[38;5;124mstatus line\u001B[39m\u001B[38;5;124m\"\u001B[39m)\n",
      "File \u001B[0;32m/Library/Frameworks/Python.framework/Versions/3.10/lib/python3.10/socket.py:705\u001B[0m, in \u001B[0;36mSocketIO.readinto\u001B[0;34m(self, b)\u001B[0m\n\u001B[1;32m    703\u001B[0m \u001B[38;5;28;01mwhile\u001B[39;00m \u001B[38;5;28;01mTrue\u001B[39;00m:\n\u001B[1;32m    704\u001B[0m     \u001B[38;5;28;01mtry\u001B[39;00m:\n\u001B[0;32m--> 705\u001B[0m         \u001B[38;5;28;01mreturn\u001B[39;00m \u001B[38;5;28;43mself\u001B[39;49m\u001B[38;5;241;43m.\u001B[39;49m\u001B[43m_sock\u001B[49m\u001B[38;5;241;43m.\u001B[39;49m\u001B[43mrecv_into\u001B[49m\u001B[43m(\u001B[49m\u001B[43mb\u001B[49m\u001B[43m)\u001B[49m\n\u001B[1;32m    706\u001B[0m     \u001B[38;5;28;01mexcept\u001B[39;00m timeout:\n\u001B[1;32m    707\u001B[0m         \u001B[38;5;28mself\u001B[39m\u001B[38;5;241m.\u001B[39m_timeout_occurred \u001B[38;5;241m=\u001B[39m \u001B[38;5;28;01mTrue\u001B[39;00m\n",
      "File \u001B[0;32m/Library/Frameworks/Python.framework/Versions/3.10/lib/python3.10/ssl.py:1274\u001B[0m, in \u001B[0;36mSSLSocket.recv_into\u001B[0;34m(self, buffer, nbytes, flags)\u001B[0m\n\u001B[1;32m   1270\u001B[0m     \u001B[38;5;28;01mif\u001B[39;00m flags \u001B[38;5;241m!=\u001B[39m \u001B[38;5;241m0\u001B[39m:\n\u001B[1;32m   1271\u001B[0m         \u001B[38;5;28;01mraise\u001B[39;00m \u001B[38;5;167;01mValueError\u001B[39;00m(\n\u001B[1;32m   1272\u001B[0m           \u001B[38;5;124m\"\u001B[39m\u001B[38;5;124mnon-zero flags not allowed in calls to recv_into() on \u001B[39m\u001B[38;5;132;01m%s\u001B[39;00m\u001B[38;5;124m\"\u001B[39m \u001B[38;5;241m%\u001B[39m\n\u001B[1;32m   1273\u001B[0m           \u001B[38;5;28mself\u001B[39m\u001B[38;5;241m.\u001B[39m\u001B[38;5;18m__class__\u001B[39m)\n\u001B[0;32m-> 1274\u001B[0m     \u001B[38;5;28;01mreturn\u001B[39;00m \u001B[38;5;28;43mself\u001B[39;49m\u001B[38;5;241;43m.\u001B[39;49m\u001B[43mread\u001B[49m\u001B[43m(\u001B[49m\u001B[43mnbytes\u001B[49m\u001B[43m,\u001B[49m\u001B[43m \u001B[49m\u001B[43mbuffer\u001B[49m\u001B[43m)\u001B[49m\n\u001B[1;32m   1275\u001B[0m \u001B[38;5;28;01melse\u001B[39;00m:\n\u001B[1;32m   1276\u001B[0m     \u001B[38;5;28;01mreturn\u001B[39;00m \u001B[38;5;28msuper\u001B[39m()\u001B[38;5;241m.\u001B[39mrecv_into(buffer, nbytes, flags)\n",
      "File \u001B[0;32m/Library/Frameworks/Python.framework/Versions/3.10/lib/python3.10/ssl.py:1130\u001B[0m, in \u001B[0;36mSSLSocket.read\u001B[0;34m(self, len, buffer)\u001B[0m\n\u001B[1;32m   1128\u001B[0m \u001B[38;5;28;01mtry\u001B[39;00m:\n\u001B[1;32m   1129\u001B[0m     \u001B[38;5;28;01mif\u001B[39;00m buffer \u001B[38;5;129;01mis\u001B[39;00m \u001B[38;5;129;01mnot\u001B[39;00m \u001B[38;5;28;01mNone\u001B[39;00m:\n\u001B[0;32m-> 1130\u001B[0m         \u001B[38;5;28;01mreturn\u001B[39;00m \u001B[38;5;28;43mself\u001B[39;49m\u001B[38;5;241;43m.\u001B[39;49m\u001B[43m_sslobj\u001B[49m\u001B[38;5;241;43m.\u001B[39;49m\u001B[43mread\u001B[49m\u001B[43m(\u001B[49m\u001B[38;5;28;43mlen\u001B[39;49m\u001B[43m,\u001B[49m\u001B[43m \u001B[49m\u001B[43mbuffer\u001B[49m\u001B[43m)\u001B[49m\n\u001B[1;32m   1131\u001B[0m     \u001B[38;5;28;01melse\u001B[39;00m:\n\u001B[1;32m   1132\u001B[0m         \u001B[38;5;28;01mreturn\u001B[39;00m \u001B[38;5;28mself\u001B[39m\u001B[38;5;241m.\u001B[39m_sslobj\u001B[38;5;241m.\u001B[39mread(\u001B[38;5;28mlen\u001B[39m)\n",
      "\u001B[0;31mKeyboardInterrupt\u001B[0m: "
     ]
    }
   ],
   "source": [
    "jobs_scrapped = 0\n",
    "pattern_companyId = r\"facetCurrentCompany%3D(\\d+)\"\n",
    "pattern_jobId = r\"currentJobId=(\\d+)\"\n",
    "\n",
    "new_data = pd.DataFrame(columns=COLS)\n",
    "data = pd.read_csv(SCRAP_FILE)\n",
    "\n",
    "def scrap_job_element(job_element):\n",
    "    job_element.click()\n",
    "    job_data = {}\n",
    "    time.sleep(1)\n",
    "    ERROR_FLAG = False\n",
    "\n",
    "    _job_id = job_data[\"job_id\"] = int(re.search(pattern_jobId, driver.current_url).group(1))\n",
    "\n",
    "    # print(type(_job_id))\n",
    "    # print(_job_id in data[\"job_id\"].values)\n",
    "    if _job_id in new_data[\"job_id\"].values or _job_id in data[\"job_id\"].values:\n",
    "        print(\"(already scrapped)\", end=\"\")\n",
    "        return job_data, True\n",
    "\n",
    "    job_data[\"description\"] = driver.find_element(*BUTTONS[\"DESCRIPTION\"]).text.strip()\n",
    "    job_data[\"company_id\"] = re.search(pattern_companyId, driver.find_element(*BUTTONS[\"COMPANY_ID\"]).get_attribute(\"href\")).group(1)\n",
    "\n",
    "    top_bar = driver.find_element(*BUTTONS[\"TOP_BAR\"]).text.split(\"\\n\")\n",
    "    job_data[\"title\"] = top_bar[0]\n",
    "    job_data[\"location\"] = \" \".join(top_bar[1].split(\" \")[1:])\n",
    "    bottom_bar = driver.find_element(*BUTTONS[\"BOTTOM_BAR\"]).text.split(\"\\n\")\n",
    "    for i in range(0, len(bottom_bar), 2):\n",
    "        if bottom_bar[i] == \"Seniority level\":\n",
    "            job_data[\"formatted_experience_level\"] = \"\" if bottom_bar[i+1] == \"Not Applicable\" else bottom_bar[i+1]\n",
    "        elif bottom_bar[i] == \"Employment type\":\n",
    "            job_data[\"work_type\"] = bottom_bar[i+1].upper()\n",
    "            job_data[\"formatted_work_type\"] = bottom_bar[i+1]\n",
    "        elif bottom_bar[i] == \"Industries\":\n",
    "            job_data[\"industries\"] = bottom_bar[i+1]\n",
    "        elif bottom_bar[i] == \"Job function\":\n",
    "            job_data[\"job_function\"] = bottom_bar[i+1]\n",
    "        else:\n",
    "            print(\"Something went wrong, won't scrape this!\")\n",
    "            ERROR_FLAG = True\n",
    "            break\n",
    "    return job_data, ERROR_FLAG\n",
    "\n",
    "\n",
    "for i, job_element in enumerate(fetch_jobs(100)):\n",
    "    SUCCESS = False\n",
    "    LOAD_TRIES = 0\n",
    "    while not SUCCESS:\n",
    "        try:\n",
    "            s = time.time()\n",
    "            job_element.click()\n",
    "            job_data, error = scrap_job_element(job_element)\n",
    "            job_id = job_data[\"job_id\"]\n",
    "            print(f'[{jobs_scrapped}/{i}] - Scraped job - {job_id} took: {time.time() - s:.2f} sec ', end=\"\")\n",
    "            if error:\n",
    "                print(\"ABORT\")\n",
    "                SUCCESS = True\n",
    "                break\n",
    "            print()\n",
    "            new_data = new_data._append(pd.Series(job_data), ignore_index=True)\n",
    "            SUCCESS = True\n",
    "            jobs_scrapped += 1\n",
    "            time.sleep(1)\n",
    "            new_data.to_csv(\"scrapped_data/job_listings2.csv\", index=False, header=True)\n",
    "            if jobs_scrapped % 10 == 0:\n",
    "                print(f'\\t--- SCRAPPED {jobs_scrapped} JOBS ---')\n",
    "                time.sleep(2)\n",
    "\n",
    "        except selenium.common.exceptions.NoSuchElementException:\n",
    "            LOAD_TRIES += 1\n",
    "            time.sleep(0.1)\n",
    "            element_before.click()\n",
    "            if LOAD_TRIES == 5:\n",
    "                time.sleep(15)\n",
    "            elif LOAD_TRIES == 8:\n",
    "                SUCCESS = True\n",
    "                break\n",
    "            time.sleep(1)\n",
    "\n",
    "        except selenium.common.exceptions.WebDriverException:\n",
    "            print(\"WebDriver Exception waiting and trying again...\")\n",
    "            time.sleep(2)\n",
    "    element_before = job_element\n",
    "print(\"DONE SCRAPPING\")\n",
    "new_data"
   ],
   "metadata": {
    "collapsed": false,
    "ExecuteTime": {
     "start_time": "2024-03-31T12:44:25.634650Z",
     "end_time": "2024-03-31T13:06:41.625146Z"
    }
   }
  },
  {
   "cell_type": "code",
   "execution_count": 17,
   "outputs": [
    {
     "data": {
      "text/plain": "77"
     },
     "execution_count": 17,
     "metadata": {},
     "output_type": "execute_result"
    }
   ],
   "source": [
    "len(driver.find_element(By.CSS_SELECTOR, '#main-content > section > ul').find_elements(By.TAG_NAME, \"li\"))"
   ],
   "metadata": {
    "collapsed": false,
    "ExecuteTime": {
     "start_time": "2024-03-30T19:41:21.906581Z",
     "end_time": "2024-03-30T19:41:21.934305Z"
    }
   }
  },
  {
   "cell_type": "code",
   "execution_count": 214,
   "outputs": [],
   "source": [
    "df = pd.DataFrame([(123, \"a\"), (325, \"b\"), (254, \"c\")], columns=[\"job_id\", \"tag\"])\n",
    "df.to_csv(\"scrapped_data/test.csv\", index=False)"
   ],
   "metadata": {
    "collapsed": false,
    "ExecuteTime": {
     "start_time": "2024-03-31T12:05:52.417245Z",
     "end_time": "2024-03-31T12:05:52.428746Z"
    }
   }
  },
  {
   "cell_type": "code",
   "execution_count": 217,
   "outputs": [
    {
     "data": {
      "text/plain": "job_id    431\ntag         Z\ndtype: object"
     },
     "execution_count": 217,
     "metadata": {},
     "output_type": "execute_result"
    }
   ],
   "source": [
    "pd.Series({\"job_id\": 431, \"tag\": \"Z\"},)#.to_csv(\"scrapped_data/test.csv\", mode=\"a\", header=False, index=False)"
   ],
   "metadata": {
    "collapsed": false,
    "ExecuteTime": {
     "start_time": "2024-03-31T12:07:44.694326Z",
     "end_time": "2024-03-31T12:07:44.706956Z"
    }
   }
  },
  {
   "cell_type": "code",
   "execution_count": 164,
   "outputs": [
    {
     "name": "stdout",
     "output_type": "stream",
     "text": [
      "True\n"
     ]
    }
   ],
   "source": [
    "print(123 in df[\"job_id\"].values)"
   ],
   "metadata": {
    "collapsed": false,
    "ExecuteTime": {
     "start_time": "2024-03-31T10:35:28.059959Z",
     "end_time": "2024-03-31T10:35:28.069840Z"
    }
   }
  },
  {
   "cell_type": "code",
   "execution_count": 129,
   "outputs": [],
   "source": [
    "driver.execute_script(\"window.scrollTo(0, document.body.scrollHeight);\")"
   ],
   "metadata": {
    "collapsed": false,
    "ExecuteTime": {
     "start_time": "2024-03-31T03:00:47.580462Z",
     "end_time": "2024-03-31T03:00:47.587426Z"
    }
   }
  },
  {
   "cell_type": "code",
   "execution_count": 317,
   "outputs": [],
   "source": [
    "df1 = pd.read_csv(\"scrapped_data/job_listings1.csv\")\n",
    "df2 = pd.read_csv(\"scrapped_data/job_listings2.csv\")"
   ],
   "metadata": {
    "collapsed": false,
    "ExecuteTime": {
     "start_time": "2024-03-31T19:48:24.161873Z",
     "end_time": "2024-03-31T19:48:24.183477Z"
    }
   }
  },
  {
   "cell_type": "code",
   "execution_count": 316,
   "outputs": [],
   "source": [
    "pd.concat([df1, df2]).to_csv(\"scrapped_data/job_listings1.csv\", index=False)"
   ],
   "metadata": {
    "collapsed": false,
    "ExecuteTime": {
     "start_time": "2024-03-31T19:48:22.452250Z",
     "end_time": "2024-03-31T19:48:22.461311Z"
    }
   }
  },
  {
   "cell_type": "code",
   "execution_count": 318,
   "outputs": [
    {
     "data": {
      "text/plain": "     company_id                                        description  \\\n0       1584738  Company Description\\n\\nSmartRecruiters is a va...   \n1     101701751  Job Title: Remote Travel Data Entry Specialist...   \n2         22615  The Neonatal ICU at Huntsville Hospital for Wo...   \n3     101701751  Job Title: Administrative Assistant/Customer S...   \n4          3055  Company Description\\n\\nDiscover the essence of...   \n..          ...                                                ...   \n228    99218917  This is a remote position.\\n\\nJunior Virtual A...   \n229        2998  Help Help Requirements Conditions of Employmen...   \n230    18348748  Description\\n\\nWho We Are - MANSCAPED® is a le...   \n231    99218917  This is a remote position.\\n\\nJunior React Dev...   \n232      140772  Children’s import apparel company seeking prod...   \n\n    formatted_experience_level formatted_work_type  \\\n0                    Associate           Full-time   \n1                  Entry level           Full-time   \n2             Mid-Senior level               Other   \n3                  Entry level           Full-time   \n4                    Associate           Full-time   \n..                         ...                 ...   \n228                Entry level           Full-time   \n229                Entry level           Full-time   \n230           Mid-Senior level           Full-time   \n231                Entry level           Full-time   \n232                  Associate           Full-time   \n\n                                            industries  \\\n0    Technology, Information and Internet and Softw...   \n1                                  Internet Publishing   \n2                            Hospitals and Health Care   \n3                                  Internet Publishing   \n4                                          Hospitality   \n..                                                 ...   \n228                      IT Services and IT Consulting   \n229                          Government Administration   \n230                Personal Care Product Manufacturing   \n231                      IT Services and IT Consulting   \n232                         Retail Apparel and Fashion   \n\n                        job_function      job_id  \\\n0                  Strategy/Planning  3878432283   \n1                     Administrative  3878442071   \n2               Health Care Provider  3878285098   \n3                     Administrative  3878438366   \n4                              Other  3878432792   \n..                               ...         ...   \n228           Information Technology  3878774793   \n229                            Other  3879000341   \n230  Accounting/Auditing and Finance  3878784776   \n231           Information Technology  3878779047   \n232                       Production  3878788181   \n\n                                       location  \\\n0                                 United States   \n1                  Venture Planners Chicago, IL   \n2                       Hospital Huntsville, AL   \n3                Venture Planners United States   \n4                                    Wailea, HI   \n..                                          ...   \n228                Learning Career New York, NY   \n229  Department of Homeland Security Tustin, CA   \n230                               United States   \n231                Learning Career New York, NY   \n232             New York City Metropolitan Area   \n\n                                         title  work_type  \n0                               Events Manager  FULL-TIME  \n1                    Data Entry Clerk - Remote  FULL-TIME  \n2           RN Staff-Neonatal ICU-PT-3rd Shift      OTHER  \n3    Administrative Assistant/Customer Service  FULL-TIME  \n4                  Revenue Analyst (Full-time)  FULL-TIME  \n..                                         ...        ...  \n228                   Junior Virtual Assistant  FULL-TIME  \n229                             Asylum Officer  FULL-TIME  \n230                  Manager, Accounts Payable  FULL-TIME  \n231                     Junior React Developer  FULL-TIME  \n232                     Production Coordinator  FULL-TIME  \n\n[233 rows x 10 columns]",
      "text/html": "<div>\n<style scoped>\n    .dataframe tbody tr th:only-of-type {\n        vertical-align: middle;\n    }\n\n    .dataframe tbody tr th {\n        vertical-align: top;\n    }\n\n    .dataframe thead th {\n        text-align: right;\n    }\n</style>\n<table border=\"1\" class=\"dataframe\">\n  <thead>\n    <tr style=\"text-align: right;\">\n      <th></th>\n      <th>company_id</th>\n      <th>description</th>\n      <th>formatted_experience_level</th>\n      <th>formatted_work_type</th>\n      <th>industries</th>\n      <th>job_function</th>\n      <th>job_id</th>\n      <th>location</th>\n      <th>title</th>\n      <th>work_type</th>\n    </tr>\n  </thead>\n  <tbody>\n    <tr>\n      <th>0</th>\n      <td>1584738</td>\n      <td>Company Description\\n\\nSmartRecruiters is a va...</td>\n      <td>Associate</td>\n      <td>Full-time</td>\n      <td>Technology, Information and Internet and Softw...</td>\n      <td>Strategy/Planning</td>\n      <td>3878432283</td>\n      <td>United States</td>\n      <td>Events Manager</td>\n      <td>FULL-TIME</td>\n    </tr>\n    <tr>\n      <th>1</th>\n      <td>101701751</td>\n      <td>Job Title: Remote Travel Data Entry Specialist...</td>\n      <td>Entry level</td>\n      <td>Full-time</td>\n      <td>Internet Publishing</td>\n      <td>Administrative</td>\n      <td>3878442071</td>\n      <td>Venture Planners Chicago, IL</td>\n      <td>Data Entry Clerk - Remote</td>\n      <td>FULL-TIME</td>\n    </tr>\n    <tr>\n      <th>2</th>\n      <td>22615</td>\n      <td>The Neonatal ICU at Huntsville Hospital for Wo...</td>\n      <td>Mid-Senior level</td>\n      <td>Other</td>\n      <td>Hospitals and Health Care</td>\n      <td>Health Care Provider</td>\n      <td>3878285098</td>\n      <td>Hospital Huntsville, AL</td>\n      <td>RN Staff-Neonatal ICU-PT-3rd Shift</td>\n      <td>OTHER</td>\n    </tr>\n    <tr>\n      <th>3</th>\n      <td>101701751</td>\n      <td>Job Title: Administrative Assistant/Customer S...</td>\n      <td>Entry level</td>\n      <td>Full-time</td>\n      <td>Internet Publishing</td>\n      <td>Administrative</td>\n      <td>3878438366</td>\n      <td>Venture Planners United States</td>\n      <td>Administrative Assistant/Customer Service</td>\n      <td>FULL-TIME</td>\n    </tr>\n    <tr>\n      <th>4</th>\n      <td>3055</td>\n      <td>Company Description\\n\\nDiscover the essence of...</td>\n      <td>Associate</td>\n      <td>Full-time</td>\n      <td>Hospitality</td>\n      <td>Other</td>\n      <td>3878432792</td>\n      <td>Wailea, HI</td>\n      <td>Revenue Analyst (Full-time)</td>\n      <td>FULL-TIME</td>\n    </tr>\n    <tr>\n      <th>...</th>\n      <td>...</td>\n      <td>...</td>\n      <td>...</td>\n      <td>...</td>\n      <td>...</td>\n      <td>...</td>\n      <td>...</td>\n      <td>...</td>\n      <td>...</td>\n      <td>...</td>\n    </tr>\n    <tr>\n      <th>228</th>\n      <td>99218917</td>\n      <td>This is a remote position.\\n\\nJunior Virtual A...</td>\n      <td>Entry level</td>\n      <td>Full-time</td>\n      <td>IT Services and IT Consulting</td>\n      <td>Information Technology</td>\n      <td>3878774793</td>\n      <td>Learning Career New York, NY</td>\n      <td>Junior Virtual Assistant</td>\n      <td>FULL-TIME</td>\n    </tr>\n    <tr>\n      <th>229</th>\n      <td>2998</td>\n      <td>Help Help Requirements Conditions of Employmen...</td>\n      <td>Entry level</td>\n      <td>Full-time</td>\n      <td>Government Administration</td>\n      <td>Other</td>\n      <td>3879000341</td>\n      <td>Department of Homeland Security Tustin, CA</td>\n      <td>Asylum Officer</td>\n      <td>FULL-TIME</td>\n    </tr>\n    <tr>\n      <th>230</th>\n      <td>18348748</td>\n      <td>Description\\n\\nWho We Are - MANSCAPED® is a le...</td>\n      <td>Mid-Senior level</td>\n      <td>Full-time</td>\n      <td>Personal Care Product Manufacturing</td>\n      <td>Accounting/Auditing and Finance</td>\n      <td>3878784776</td>\n      <td>United States</td>\n      <td>Manager, Accounts Payable</td>\n      <td>FULL-TIME</td>\n    </tr>\n    <tr>\n      <th>231</th>\n      <td>99218917</td>\n      <td>This is a remote position.\\n\\nJunior React Dev...</td>\n      <td>Entry level</td>\n      <td>Full-time</td>\n      <td>IT Services and IT Consulting</td>\n      <td>Information Technology</td>\n      <td>3878779047</td>\n      <td>Learning Career New York, NY</td>\n      <td>Junior React Developer</td>\n      <td>FULL-TIME</td>\n    </tr>\n    <tr>\n      <th>232</th>\n      <td>140772</td>\n      <td>Children’s import apparel company seeking prod...</td>\n      <td>Associate</td>\n      <td>Full-time</td>\n      <td>Retail Apparel and Fashion</td>\n      <td>Production</td>\n      <td>3878788181</td>\n      <td>New York City Metropolitan Area</td>\n      <td>Production Coordinator</td>\n      <td>FULL-TIME</td>\n    </tr>\n  </tbody>\n</table>\n<p>233 rows × 10 columns</p>\n</div>"
     },
     "execution_count": 318,
     "metadata": {},
     "output_type": "execute_result"
    }
   ],
   "source": [
    "df1"
   ],
   "metadata": {
    "collapsed": false,
    "ExecuteTime": {
     "start_time": "2024-03-31T19:48:25.899778Z",
     "end_time": "2024-03-31T19:48:25.913819Z"
    }
   }
  },
  {
   "cell_type": "code",
   "execution_count": null,
   "outputs": [],
   "source": [],
   "metadata": {
    "collapsed": false
   }
  }
 ],
 "metadata": {
  "kernelspec": {
   "display_name": "Python 3",
   "language": "python",
   "name": "python3"
  },
  "language_info": {
   "codemirror_mode": {
    "name": "ipython",
    "version": 2
   },
   "file_extension": ".py",
   "mimetype": "text/x-python",
   "name": "python",
   "nbconvert_exporter": "python",
   "pygments_lexer": "ipython2",
   "version": "2.7.6"
  }
 },
 "nbformat": 4,
 "nbformat_minor": 0
}
